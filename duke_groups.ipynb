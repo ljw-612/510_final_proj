{
 "cells": [
  {
   "cell_type": "code",
   "execution_count": 3,
   "metadata": {},
   "outputs": [],
   "source": [
    "import requests\n",
    "from bs4 import BeautifulSoup\n",
    "import pandas as pd"
   ]
  },
  {
   "cell_type": "code",
   "execution_count": 5,
   "metadata": {},
   "outputs": [
    {
     "name": "stdout",
     "output_type": "stream",
     "text": [
      "Empty DataFrame\n",
      "Columns: [Name, Link, Description]\n",
      "Index: []\n"
     ]
    }
   ],
   "source": [
    "# Define the URL you want to scrape\n",
    "url = \"https://dukegroups.com/club_signup?group_type=9999\"\n",
    "\n",
    "# Send an HTTP GET request to the URL\n",
    "response = requests.get(url)\n",
    "\n",
    "# Check if the request was successful (status code 200)\n",
    "if response.status_code == 200:\n",
    "    # Parse the HTML content of the page\n",
    "    soup = BeautifulSoup(response.text, \"html.parser\")\n",
    "\n",
    "    # Initialize empty lists to store data\n",
    "    names = []\n",
    "    links = []\n",
    "    descriptions = []\n",
    "\n",
    "    # Find the club entries on the page\n",
    "    club_entries = soup.find_all(\"li\", class_=\"listing-group-item\")\n",
    "\n",
    "    # Loop through the club entries and extract the information\n",
    "    for club in club_entries:\n",
    "\n",
    "        # Extract the name\n",
    "        club_name = club.find(\"h2\", class_=\"media-heading header-cg--h4\")\n",
    "\n",
    "        # Extract the link\n",
    "        club_link = club.find(\"a\")[\"href\"]\n",
    "        \n",
    "        # Extract the description\n",
    "        club_description = club.find(\"a\")[\"href\"].text.strip()\n",
    "\n",
    "        # Append the data to the respective lists\n",
    "        names.append(club_name)\n",
    "        links.append(club_link)\n",
    "        descriptions.append(club_description)\n",
    "\n",
    "    # Create a DataFrame from the lists\n",
    "    data = {\n",
    "        \"Name\": names,\n",
    "        \"Link\": links,\n",
    "        \"Description\": descriptions,\n",
    "    }\n",
    "\n",
    "    df = pd.DataFrame(data)\n",
    "\n",
    "    # Print the DataFrame\n",
    "    print(df)\n",
    "\n",
    "else:\n",
    "    print(\"Failed to retrieve the webpage. Status code:\", response.status_code)"
   ]
  }
 ],
 "metadata": {
  "kernelspec": {
   "display_name": "Python 3",
   "language": "python",
   "name": "python3"
  },
  "language_info": {
   "codemirror_mode": {
    "name": "ipython",
    "version": 3
   },
   "file_extension": ".py",
   "mimetype": "text/x-python",
   "name": "python",
   "nbconvert_exporter": "python",
   "pygments_lexer": "ipython3",
   "version": "3.12.0"
  }
 },
 "nbformat": 4,
 "nbformat_minor": 2
}
